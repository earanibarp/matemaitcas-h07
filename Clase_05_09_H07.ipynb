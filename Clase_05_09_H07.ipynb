{
  "nbformat": 4,
  "nbformat_minor": 0,
  "metadata": {
    "colab": {
      "provenance": [],
      "authorship_tag": "ABX9TyP4cHVFe8XAzKpW/txyb3tu",
      "include_colab_link": true
    },
    "kernelspec": {
      "name": "python3",
      "display_name": "Python 3"
    },
    "language_info": {
      "name": "python"
    }
  },
  "cells": [
    {
      "cell_type": "markdown",
      "metadata": {
        "id": "view-in-github",
        "colab_type": "text"
      },
      "source": [
        "<a href=\"https://colab.research.google.com/github/earanibarp/matemaitcas-h07/blob/main/Clase_05_09_H07.ipynb\" target=\"_parent\"><img src=\"https://colab.research.google.com/assets/colab-badge.svg\" alt=\"Open In Colab\"/></a>"
      ]
    },
    {
      "cell_type": "markdown",
      "source": [
        "# Introducción a Python"
      ],
      "metadata": {
        "id": "R5p29bcNfqVI"
      }
    },
    {
      "cell_type": "code",
      "execution_count": 2,
      "metadata": {
        "colab": {
          "base_uri": "https://localhost:8080/"
        },
        "id": "vPmnxvWcdhxU",
        "outputId": "fdd3a4c6-9b8b-4f37-e851-9af2d4c774a8"
      },
      "outputs": [
        {
          "output_type": "execute_result",
          "data": {
            "text/plain": [
              "0.5"
            ]
          },
          "metadata": {},
          "execution_count": 2
        }
      ],
      "source": [
        "1/2"
      ]
    },
    {
      "cell_type": "code",
      "source": [
        "nombre = \"Fabián\""
      ],
      "metadata": {
        "id": "-qz-STcvf-7H"
      },
      "execution_count": 20,
      "outputs": []
    },
    {
      "cell_type": "code",
      "source": [
        "nombre"
      ],
      "metadata": {
        "colab": {
          "base_uri": "https://localhost:8080/",
          "height": 36
        },
        "id": "HhwrHk20hnJ7",
        "outputId": "ad140c60-b8fe-4d4e-b7de-3613eca862dc"
      },
      "execution_count": 10,
      "outputs": [
        {
          "output_type": "execute_result",
          "data": {
            "text/plain": [
              "'Juan'"
            ],
            "application/vnd.google.colaboratory.intrinsic+json": {
              "type": "string"
            }
          },
          "metadata": {},
          "execution_count": 10
        }
      ]
    },
    {
      "cell_type": "code",
      "source": [
        "type(nombre) # Función para verificar el tipo de dato de una variable"
      ],
      "metadata": {
        "colab": {
          "base_uri": "https://localhost:8080/"
        },
        "id": "DgLVDj5Fhz8g",
        "outputId": "df09ba38-ede4-4789-f726-afb4f5b0c8f6"
      },
      "execution_count": 11,
      "outputs": [
        {
          "output_type": "execute_result",
          "data": {
            "text/plain": [
              "str"
            ]
          },
          "metadata": {},
          "execution_count": 11
        }
      ]
    },
    {
      "cell_type": "code",
      "source": [
        "edad = 20\n",
        "edad"
      ],
      "metadata": {
        "colab": {
          "base_uri": "https://localhost:8080/"
        },
        "id": "XiVNMJHBiAvo",
        "outputId": "5419d27d-36c4-4313-f1e0-e5b6eac50733"
      },
      "execution_count": 13,
      "outputs": [
        {
          "output_type": "execute_result",
          "data": {
            "text/plain": [
              "20"
            ]
          },
          "metadata": {},
          "execution_count": 13
        }
      ]
    },
    {
      "cell_type": "code",
      "source": [
        "print(f\"El nombre es {nombre} y su edad es de {edad} años\") # Función para imprimir un texto\n",
        "print(\"El nombre es\", nombre, \"y su edad es de\", edad, \"años\")"
      ],
      "metadata": {
        "colab": {
          "base_uri": "https://localhost:8080/"
        },
        "id": "xIKROtdFiRB6",
        "outputId": "5793fecb-02b3-40d9-8334-a0ed7feb4a06"
      },
      "execution_count": 25,
      "outputs": [
        {
          "output_type": "stream",
          "name": "stdout",
          "text": [
            "El nombre es Fabián y su edad es de 20 años\n",
            "El nombre es Fabián y su edad es de 20 años\n"
          ]
        }
      ]
    },
    {
      "cell_type": "markdown",
      "source": [
        "## Ejercicio\n",
        "Crear dos variables, en una almacenar el curso y en otra el ciclo. Luego imprimir:\n",
        "\n",
        "```\n",
        "# Bienvenidos al curso de 'Matemáticas aplicadas al desarrollo y soporte de sistemas' del ciclo I\n",
        "```\n",
        "\n"
      ],
      "metadata": {
        "id": "XyfsRLJSnBUf"
      }
    },
    {
      "cell_type": "code",
      "source": [
        "curso = \"Matemáticas aplicadas al desarrollo y soporte de sistemas\"\n",
        "ciclo = \"ciclo I\"\n",
        "\n",
        "print(f\"Bienvenidos \\n al curso de '{curso}'\\n del {ciclo}\")"
      ],
      "metadata": {
        "colab": {
          "base_uri": "https://localhost:8080/"
        },
        "id": "ww_YZ3z2mRdE",
        "outputId": "ced945df-6aa4-49ce-be8a-5f0c36a6b783"
      },
      "execution_count": 29,
      "outputs": [
        {
          "output_type": "stream",
          "name": "stdout",
          "text": [
            "Bienvenidos \n",
            "al curso de 'Matemáticas aplicadas al desarrollo y soporte de sistemas'\n",
            " del ciclo I\n"
          ]
        }
      ]
    },
    {
      "cell_type": "code",
      "source": [
        "nombre = input(\"Ingresa tu nombre: \")\n",
        "edad = int(input(\"Ingresa tu edad: \"))\n",
        "\n",
        "print(f\"El nombre es {nombre} y su edad duplicada es de {edad*2} años\")"
      ],
      "metadata": {
        "colab": {
          "base_uri": "https://localhost:8080/"
        },
        "id": "fvDYTAgBqxvY",
        "outputId": "28fa7612-4061-4f65-ded7-96a1d7a4391b"
      },
      "execution_count": 39,
      "outputs": [
        {
          "output_type": "stream",
          "name": "stdout",
          "text": [
            "Ingresa tu nombre: Edwin\n",
            "Ingresa tu edad: 20\n",
            "El nombre es Edwin y su edad duplicada es de 40 años\n"
          ]
        }
      ]
    },
    {
      "cell_type": "markdown",
      "source": [
        "## Ejercicio\n",
        "Ingresar 2 números y mostrar la suma y resta de ambos."
      ],
      "metadata": {
        "id": "ejmWC_OGsupR"
      }
    },
    {
      "cell_type": "code",
      "source": [
        "num1 = int(input(\"Ingresa el primero número: \"))\n",
        "num2 = int(input(\"Ingresa el segundo número: \"))\n",
        "\n",
        "print(f\"La suma de los números es {num1 + num2}, y la resta es {num1 - num2}\")"
      ],
      "metadata": {
        "colab": {
          "base_uri": "https://localhost:8080/"
        },
        "id": "rr-GX06_suNl",
        "outputId": "ab821c9a-0ab1-487e-aa18-939ad4efbe81"
      },
      "execution_count": 42,
      "outputs": [
        {
          "output_type": "stream",
          "name": "stdout",
          "text": [
            "Ingresa el primero número: 5\n",
            "Ingresa el segundo número: 8\n",
            "La suma de los números es 13, y la resta es -3\n"
          ]
        }
      ]
    },
    {
      "cell_type": "code",
      "source": [
        "# @title Condicionales\n",
        "edad = 15\n",
        "\n",
        "if edad >= 18:\n",
        "  print(\"Usted es mayor de edad.\")\n",
        "else:\n",
        "  print(\"Usted NO es mayor de edad.\")"
      ],
      "metadata": {
        "colab": {
          "base_uri": "https://localhost:8080/"
        },
        "id": "0m9jMbLHvLPz",
        "outputId": "bfc8e6d1-7469-4d0e-e7de-bf51feb07032"
      },
      "execution_count": 44,
      "outputs": [
        {
          "output_type": "stream",
          "name": "stdout",
          "text": [
            "Usted NO es mayor de edad.\n"
          ]
        }
      ]
    },
    {
      "cell_type": "code",
      "source": [
        "nota1 = 15\n",
        "nota2 = 12\n",
        "nota3 = 10\n",
        "\n",
        "promedio = (nota1 + nota2 + nota3)/3\n",
        "\n",
        "if promedio >= 15:\n",
        "  print(\"Logrado\")\n",
        "elif promedio >= 11:\n",
        "  print(\"En proceso\")\n",
        "else:\n",
        "  print(\"Inicio\")"
      ],
      "metadata": {
        "colab": {
          "base_uri": "https://localhost:8080/"
        },
        "id": "rR__m5hPxETV",
        "outputId": "f917798c-3a67-4bc3-d5c3-1280e09ef7b7"
      },
      "execution_count": 45,
      "outputs": [
        {
          "output_type": "stream",
          "name": "stdout",
          "text": [
            "En proceso\n"
          ]
        }
      ]
    },
    {
      "cell_type": "code",
      "source": [
        "\"\"\"\n",
        "efectivo           -> 10% dscto\n",
        "tarjeta de débito  -> 10% dscto\n",
        "tarjeta de crédito -> 8% dscto\n",
        "billetera digital  -> 5% dscto\n",
        "\"\"\"\n",
        "\n",
        "medioPago = input(\"Ingresa el medio de pago\")\n",
        "\n",
        "if medioPago == \"EFECTIVO\":\n",
        "  print(\"Usted tiene 10% de descuento\")\n",
        "elif medioPago == \"TARJETA DE DEBITO\":\n",
        "  print(\"Usted tiene 10% de descuento\")\n",
        "elif medioPago == \"TARJETA DE CREDITO\":\n",
        "  print(\"Usted tiene 8% de descuento\")\n",
        "else:\n",
        "  print(\"Usted tiene 5% de descuento\")\n",
        "\n"
      ],
      "metadata": {
        "colab": {
          "base_uri": "https://localhost:8080/"
        },
        "id": "BWuh53pEy1mz",
        "outputId": "9466ecc3-7f9c-48de-b245-c5b682b5c78e"
      },
      "execution_count": 46,
      "outputs": [
        {
          "output_type": "stream",
          "name": "stdout",
          "text": [
            "Ingresa el medio de pagoTARJETA DE CREDITO\n",
            "Usted tiene 8% de descuento\n"
          ]
        }
      ]
    }
  ]
}
